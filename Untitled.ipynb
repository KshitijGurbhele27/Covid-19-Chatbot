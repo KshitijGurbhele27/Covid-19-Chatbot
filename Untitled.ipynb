{
 "cells": [
  {
   "cell_type": "code",
   "execution_count": 1,
   "metadata": {},
   "outputs": [],
   "source": [
    "import nltk\n",
    "import io\n",
    "import numpy as np\n",
    "import random\n",
    "import string\n",
    "import warnings\n",
    "warnings.filterwarnings('ignore')"
   ]
  },
  {
   "cell_type": "code",
   "execution_count": 2,
   "metadata": {},
   "outputs": [],
   "source": [
    "f=open('covid 19.txt','r',errors='ignore')\n",
    "raw=f.read()\n",
    "raw=raw.lower()\n",
    "sent=nltk.sent_tokenize(raw)\n",
    "word=nltk.word_tokenize(raw)"
   ]
  },
  {
   "cell_type": "code",
   "execution_count": null,
   "metadata": {},
   "outputs": [],
   "source": [
    "\n"
   ]
  },
  {
   "cell_type": "code",
   "execution_count": 3,
   "metadata": {},
   "outputs": [],
   "source": [
    "lem=nltk.stem.WordNetLemmatizer()\n",
    "def LemTokens(tokens):\n",
    "    return [lem.lemmatize(token) for token in tokens]\n",
    "punc_dict=dict((ord(punct),None) for punct in string.punctuation)\n",
    "def LemNormalize(text):\n",
    "    return LemTokens(nltk.word_tokenize(text.lower().translate(punc_dict)))"
   ]
  },
  {
   "cell_type": "code",
   "execution_count": 4,
   "metadata": {},
   "outputs": [],
   "source": [
    "greeting_inputs=('hello','hi','greetings','sup',\"what's up\",'hey')\n",
    "greeting_output=('hello','hi','greetings','sup',\"what's up\",'hey','I am glad, you are talking to me!')\n",
    "def greeting(sentence):\n",
    "    for word in sentence.split():\n",
    "        if word.lower() in greeting_inputs:\n",
    "            return random.choice(greeting_output)"
   ]
  },
  {
   "cell_type": "code",
   "execution_count": 5,
   "metadata": {},
   "outputs": [],
   "source": [
    "from sklearn.feature_extraction.text import TfidfVectorizer\n",
    "from sklearn.metrics.pairwise import cosine_similarity"
   ]
  },
  {
   "cell_type": "code",
   "execution_count": 6,
   "metadata": {},
   "outputs": [],
   "source": [
    "def response(user_response):\n",
    "    chatbot_response=''\n",
    "    sent.append(user_response)\n",
    "    Tf=TfidfVectorizer(tokenizer=LemNormalize,stop_words='english')\n",
    "    tfidf=Tf.fit_transform(sent)\n",
    "    vals=cosine_similarity(tfidf[-1],tfidf)\n",
    "    idx=vals.argsort()[0][-2]\n",
    "    flat=vals.flatten()\n",
    "    flat.sort()\n",
    "    req_tfidf=flat[-2]\n",
    "    if(req_tfidf==0):\n",
    "        chatbot_response=chatbot_response+\"I am sorry, I don't understand you !\"\n",
    "        return chatbot_response\n",
    "    else:\n",
    "        chatbot_response=chatbot_response+sent[idx]\n",
    "        return chatbot_response"
   ]
  },
  {
   "cell_type": "code",
   "execution_count": 9,
   "metadata": {},
   "outputs": [
    {
     "name": "stdout",
     "output_type": "stream",
     "text": [
      "Chatbot: My name is Chatbot. I will answer your queries about Covid-19. If you wanna exit type \"bye\"\n",
      "Please ask me your query!hello\n",
      "Chatbot: hi\n",
      "Please ask me your query!when was covid first identified\n",
      "Chatbot: [10] it was first identified in december 2019 in wuhan, hubei, china, and has resulted in an ongoing pandemic.\n",
      "Please ask me your query!common symptoms\n",
      "Chatbot: fever is the most common symptom of covidâ€‘19.\n",
      "Please ask me your query!measures to prevent infection\n",
      "Chatbot: recommended measures to prevent infection include frequent hand washing, social distancing, quarantine, covering coughs, and keeping unwashed hands away from the face.\n",
      "Please ask me your query!face mask\n",
      "Chatbot: health officials also stated that medical-grade face masks, such as n95 masks, should be used only by healthcare workers, first responders, and those who directly care for infected individuals.\n",
      "Please ask me your query!death rate in china\n",
      "Chatbot: [132]\n",
      "early reviews of epidemiologic data showed greater impact of the pandemic and a higher mortality rate in men in china and italy.\n",
      "Please ask me your query!vaccine ?\n",
      "Chatbot: there are no proven vaccines or specific treatments for covid-19.\n",
      "Please ask me your query!thank you\n",
      "Chatbot: You are welcome\n"
     ]
    }
   ],
   "source": [
    "flag=True\n",
    "print('Chatbot: My name is Chatbot. I will answer your queries about Covid-19. If you wanna exit type \"bye\"')\n",
    "while(flag==True):\n",
    "    user_response=input('Please ask me your query!')\n",
    "    user_response=user_response.lower()\n",
    "    if (user_response!='bye'):\n",
    "        if(user_response=='thanks' or user_response=='thank you'):\n",
    "            flag=False\n",
    "            print('Chatbot: You are welcome')\n",
    "        else:\n",
    "            if(greeting(user_response)!=None):\n",
    "                print('Chatbot: '+greeting(user_response))\n",
    "            else:\n",
    "                print('Chatbot: ',end='')\n",
    "                print(response(user_response))\n",
    "                sent.remove(user_response)\n",
    "    else:\n",
    "        flag=False\n",
    "        print('Chatbot: Bye! Have a nice day!')"
   ]
  },
  {
   "cell_type": "code",
   "execution_count": null,
   "metadata": {},
   "outputs": [],
   "source": []
  },
  {
   "cell_type": "code",
   "execution_count": null,
   "metadata": {},
   "outputs": [],
   "source": []
  }
 ],
 "metadata": {
  "kernelspec": {
   "display_name": "Python 3",
   "language": "python",
   "name": "python3"
  },
  "language_info": {
   "codemirror_mode": {
    "name": "ipython",
    "version": 3
   },
   "file_extension": ".py",
   "mimetype": "text/x-python",
   "name": "python",
   "nbconvert_exporter": "python",
   "pygments_lexer": "ipython3",
   "version": "3.7.4"
  }
 },
 "nbformat": 4,
 "nbformat_minor": 2
}
